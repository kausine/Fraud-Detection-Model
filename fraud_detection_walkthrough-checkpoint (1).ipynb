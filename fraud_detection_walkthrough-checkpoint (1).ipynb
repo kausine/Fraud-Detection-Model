{
 "cells": [
  {
   "cell_type": "code",
   "execution_count": 1,
   "id": "6a71a0f0",
   "metadata": {},
   "outputs": [
    {
     "name": "stdout",
     "output_type": "stream",
     "text": [
      "All set!\n"
     ]
    }
   ],
   "source": [
    "\n",
    "\n",
    "DATA_PATH = \"Fraud.csv\"\n",
    "   \n",
    "LIGHT_MODE = True\n",
    "LIGHT_MAX_ROWS = 200000\n",
    "          \n",
    "\n",
    "\n",
    "TRAIN_MAX_STEP = 400  \n",
    "\n",
    "\n",
    "COST_FN = 500.0   \n",
    "COST_FP = 1.0    \n",
    "\n",
    "# ==== Imports ====\n",
    "import os, math, gc, sys, warnings\n",
    "import numpy as np\n",
    "import pandas as pd\n",
    "import matplotlib.pyplot as plt\n",
    "\n",
    "from sklearn.model_selection import train_test_split\n",
    "from sklearn.metrics import (roc_auc_score, average_precision_score,\n",
    "                             precision_recall_curve, roc_curve, confusion_matrix,\n",
    "                             classification_report)\n",
    "from sklearn.preprocessing import OneHotEncoder\n",
    "from sklearn.compose import ColumnTransformer\n",
    "from sklearn.pipeline import Pipeline\n",
    "from sklearn.linear_model import LogisticRegression\n",
    "from sklearn.ensemble import RandomForestClassifier\n",
    "from sklearn.inspection import permutation_importance\n",
    "\n",
    "warnings.filterwarnings(\"ignore\")\n",
    "pd.set_option(\"display.max_columns\", 100)\n",
    "print(\"All set!\")\n"
   ]
  },
  {
   "cell_type": "code",
   "execution_count": 2,
   "id": "9e78f183",
   "metadata": {},
   "outputs": [
    {
     "name": "stdout",
     "output_type": "stream",
     "text": [
      "LIGHT_MODE is ON. Loading up to 200,000 rows...\n",
      "(200000, 11)\n"
     ]
    },
    {
     "data": {
      "text/html": [
       "<div>\n",
       "<style scoped>\n",
       "    .dataframe tbody tr th:only-of-type {\n",
       "        vertical-align: middle;\n",
       "    }\n",
       "\n",
       "    .dataframe tbody tr th {\n",
       "        vertical-align: top;\n",
       "    }\n",
       "\n",
       "    .dataframe thead th {\n",
       "        text-align: right;\n",
       "    }\n",
       "</style>\n",
       "<table border=\"1\" class=\"dataframe\">\n",
       "  <thead>\n",
       "    <tr style=\"text-align: right;\">\n",
       "      <th></th>\n",
       "      <th>step</th>\n",
       "      <th>type</th>\n",
       "      <th>amount</th>\n",
       "      <th>nameOrig</th>\n",
       "      <th>oldbalanceOrg</th>\n",
       "      <th>newbalanceOrig</th>\n",
       "      <th>nameDest</th>\n",
       "      <th>oldbalanceDest</th>\n",
       "      <th>newbalanceDest</th>\n",
       "      <th>isFraud</th>\n",
       "      <th>isFlaggedFraud</th>\n",
       "    </tr>\n",
       "  </thead>\n",
       "  <tbody>\n",
       "    <tr>\n",
       "      <th>0</th>\n",
       "      <td>1</td>\n",
       "      <td>PAYMENT</td>\n",
       "      <td>9839.64</td>\n",
       "      <td>C1231006815</td>\n",
       "      <td>170136.0</td>\n",
       "      <td>160296.36</td>\n",
       "      <td>M1979787155</td>\n",
       "      <td>0.0</td>\n",
       "      <td>0.0</td>\n",
       "      <td>0</td>\n",
       "      <td>0</td>\n",
       "    </tr>\n",
       "    <tr>\n",
       "      <th>1</th>\n",
       "      <td>1</td>\n",
       "      <td>PAYMENT</td>\n",
       "      <td>1864.28</td>\n",
       "      <td>C1666544295</td>\n",
       "      <td>21249.0</td>\n",
       "      <td>19384.72</td>\n",
       "      <td>M2044282225</td>\n",
       "      <td>0.0</td>\n",
       "      <td>0.0</td>\n",
       "      <td>0</td>\n",
       "      <td>0</td>\n",
       "    </tr>\n",
       "    <tr>\n",
       "      <th>2</th>\n",
       "      <td>1</td>\n",
       "      <td>TRANSFER</td>\n",
       "      <td>181.00</td>\n",
       "      <td>C1305486145</td>\n",
       "      <td>181.0</td>\n",
       "      <td>0.00</td>\n",
       "      <td>C553264065</td>\n",
       "      <td>0.0</td>\n",
       "      <td>0.0</td>\n",
       "      <td>1</td>\n",
       "      <td>0</td>\n",
       "    </tr>\n",
       "    <tr>\n",
       "      <th>3</th>\n",
       "      <td>1</td>\n",
       "      <td>CASH_OUT</td>\n",
       "      <td>181.00</td>\n",
       "      <td>C840083671</td>\n",
       "      <td>181.0</td>\n",
       "      <td>0.00</td>\n",
       "      <td>C38997010</td>\n",
       "      <td>21182.0</td>\n",
       "      <td>0.0</td>\n",
       "      <td>1</td>\n",
       "      <td>0</td>\n",
       "    </tr>\n",
       "    <tr>\n",
       "      <th>4</th>\n",
       "      <td>1</td>\n",
       "      <td>PAYMENT</td>\n",
       "      <td>11668.14</td>\n",
       "      <td>C2048537720</td>\n",
       "      <td>41554.0</td>\n",
       "      <td>29885.86</td>\n",
       "      <td>M1230701703</td>\n",
       "      <td>0.0</td>\n",
       "      <td>0.0</td>\n",
       "      <td>0</td>\n",
       "      <td>0</td>\n",
       "    </tr>\n",
       "  </tbody>\n",
       "</table>\n",
       "</div>"
      ],
      "text/plain": [
       "   step      type    amount     nameOrig  oldbalanceOrg  newbalanceOrig  \\\n",
       "0     1   PAYMENT   9839.64  C1231006815       170136.0       160296.36   \n",
       "1     1   PAYMENT   1864.28  C1666544295        21249.0        19384.72   \n",
       "2     1  TRANSFER    181.00  C1305486145          181.0            0.00   \n",
       "3     1  CASH_OUT    181.00   C840083671          181.0            0.00   \n",
       "4     1   PAYMENT  11668.14  C2048537720        41554.0        29885.86   \n",
       "\n",
       "      nameDest  oldbalanceDest  newbalanceDest  isFraud  isFlaggedFraud  \n",
       "0  M1979787155             0.0             0.0        0               0  \n",
       "1  M2044282225             0.0             0.0        0               0  \n",
       "2   C553264065             0.0             0.0        1               0  \n",
       "3    C38997010         21182.0             0.0        1               0  \n",
       "4  M1230701703             0.0             0.0        0               0  "
      ]
     },
     "execution_count": 2,
     "metadata": {},
     "output_type": "execute_result"
    }
   ],
   "source": [
    "\n",
    "# Define dtypes to cut memory use\n",
    "dtypes = {\n",
    "    \"step\": \"int32\",\n",
    "    \"type\": \"category\",\n",
    "    \"amount\": \"float64\",\n",
    "    \"nameOrig\": \"category\",\n",
    "    \"oldbalanceOrg\": \"float64\",\n",
    "    \"newbalanceOrig\": \"float64\",\n",
    "    \"nameDest\": \"category\",\n",
    "    \"oldbalanceDest\": \"float64\",\n",
    "    \"newbalanceDest\": \"float64\",\n",
    "    \"isFraud\": \"int8\",\n",
    "    \"isFlaggedFraud\": \"int8\",\n",
    "}\n",
    "\n",
    "usecols = list(dtypes.keys())\n",
    "\n",
    "# Option A: LIGHT_MODE (fast) — read only first N rows\n",
    "if LIGHT_MODE:\n",
    "    print(f\"LIGHT_MODE is ON. Loading up to {LIGHT_MAX_ROWS:,} rows...\")\n",
    "    df = pd.read_csv(DATA_PATH, dtype=dtypes, usecols=usecols, nrows=LIGHT_MAX_ROWS)\n",
    "else:\n",
    "    print(\"LIGHT_MODE is OFF. Attempting to load all rows. This may require 8–16GB+ RAM.\")\n",
    "    df = pd.read_csv(DATA_PATH, dtype=dtypes, usecols=usecols)\n",
    "\n",
    "print(df.shape)\n",
    "df.head()\n"
   ]
  },
  {
   "cell_type": "code",
   "execution_count": 3,
   "id": "d185ffca",
   "metadata": {},
   "outputs": [
    {
     "name": "stdout",
     "output_type": "stream",
     "text": [
      "Rows, Cols: (200000, 11)\n",
      "\n",
      "Missing values per column:\n",
      " step              0\n",
      "type              0\n",
      "amount            0\n",
      "nameOrig          0\n",
      "oldbalanceOrg     0\n",
      "newbalanceOrig    0\n",
      "nameDest          0\n",
      "oldbalanceDest    0\n",
      "newbalanceDest    0\n",
      "isFraud           0\n",
      "isFlaggedFraud    0\n",
      "dtype: int64\n",
      "\n",
      "Fraud rate in this slice: 0.000735 (0.0735%)\n",
      "\n",
      "Type counts (top 10):\n",
      "type\n",
      "PAYMENT     73427\n",
      "CASH_OUT    66488\n",
      "CASH_IN     41579\n",
      "TRANSFER    16836\n",
      "DEBIT        1670\n",
      "Name: count, dtype: int64\n",
      "Saved a small preview to: preview_sample.csv\n"
     ]
    }
   ],
   "source": [
    "\n",
    "print(\"Rows, Cols:\", df.shape)\n",
    "print(\"\\nMissing values per column:\\n\", df.isna().sum())\n",
    "\n",
    "fraud_rate = df[\"isFraud\"].mean()\n",
    "print(f\"\\nFraud rate in this slice: {fraud_rate:.6f} ({fraud_rate*100:.4f}%)\")\n",
    "\n",
    "print(\"\\nType counts (top 10):\")\n",
    "print(df[\"type\"].value_counts().head(10))\n",
    "\n",
    "# Save a tiny sample for human inspection (first 100 rows)\n",
    "sample_path = \"preview_sample.csv\"\n",
    "df.head(100).to_csv(sample_path, index=False)\n",
    "print(f\"Saved a small preview to: {sample_path}\")\n",
    "\n"
   ]
  },
  {
   "cell_type": "code",
   "execution_count": 4,
   "id": "df1c9b90",
   "metadata": {},
   "outputs": [
    {
     "name": "stdout",
     "output_type": "stream",
     "text": [
      "Data after feature engineering: (200000, 15)\n"
     ]
    }
   ],
   "source": [
    "\n",
    "df = df.copy()\n",
    "df[\"errorOrig\"] = df[\"oldbalanceOrg\"] - df[\"amount\"] - df[\"newbalanceOrig\"]\n",
    "df[\"errorDest\"] = df[\"oldbalanceDest\"] + df[\"amount\"] - df[\"newbalanceDest\"]\n",
    "df[\"isMerchantDest\"] = df[\"nameDest\"].astype(str).str.startswith(\"M\").astype(\"int8\")\n",
    "df[\"amount_log\"] = np.log1p(df[\"amount\"])\n",
    "\n",
    "\n",
    "feature_cols_num = [\n",
    "    \"step\",\n",
    "    \"amount\",\n",
    "    \"oldbalanceOrg\",\n",
    "    \"newbalanceOrig\",\n",
    "    \"oldbalanceDest\",\n",
    "    \"newbalanceDest\",\n",
    "    \"errorOrig\",\n",
    "    \"errorDest\",\n",
    "    \"amount_log\",\n",
    "    \"isMerchantDest\",\n",
    "]\n",
    "\n",
    "feature_cols_cat = [\"type\"]  # one-hot\n",
    "\n",
    "target_col = \"isFraud\"\n",
    "\n",
    "# Safety: drop any potential infinite values\n",
    "for c in feature_cols_num:\n",
    "    df[c] = pd.to_numeric(df[c], errors=\"coerce\")\n",
    "df = df.replace([np.inf, -np.inf], np.nan).dropna(subset=feature_cols_num + [target_col])\n",
    "print(\"Data after feature engineering:\", df.shape)\n"
   ]
  },
  {
   "cell_type": "code",
   "execution_count": 5,
   "id": "927c58fd",
   "metadata": {},
   "outputs": [
    {
     "name": "stdout",
     "output_type": "stream",
     "text": [
      "Train shape: (140000, 11) (140000,)\n",
      "Valid shape: (60000, 11) (60000,)\n"
     ]
    },
    {
     "data": {
      "text/plain": [
       "17"
      ]
     },
     "execution_count": 5,
     "metadata": {},
     "output_type": "execute_result"
    }
   ],
   "source": [
    "from sklearn.model_selection import train_test_split\n",
    "\n",
    "X = df[feature_cols_num + feature_cols_cat]\n",
    "y = df[target_col]\n",
    "\n",
    "X_train, X_valid, y_train, y_valid = train_test_split(\n",
    "    X, y, test_size=0.3, random_state=42, stratify=y\n",
    ")\n",
    "\n",
    "print(\"Train shape:\", X_train.shape, y_train.shape)\n",
    "print(\"Valid shape:\", X_valid.shape, y_valid.shape)\n",
    "\n",
    "# Free big original df if needed\n",
    "del df\n",
    "gc.collect()\n"
   ]
  },
  {
   "cell_type": "code",
   "execution_count": 6,
   "id": "3586362f",
   "metadata": {
    "scrolled": true
   },
   "outputs": [
    {
     "name": "stdout",
     "output_type": "stream",
     "text": [
      "Training LogisticRegression...\n",
      "Training RandomForest...\n",
      "Saved trained models to current folder\n"
     ]
    }
   ],
   "source": [
    "\n",
    "# Preprocess: OneHot for 'type'\n",
    "preprocess = ColumnTransformer(\n",
    "    transformers=[\n",
    "        (\"cat\", OneHotEncoder(handle_unknown=\"ignore\", sparse_output=False), [\"type\"]),\n",
    "    ],\n",
    "    remainder=\"passthrough\",\n",
    "    verbose_feature_names_out=False,\n",
    ")\n",
    "\n",
    "# Model 1: Logistic Regression\n",
    "logreg = LogisticRegression(max_iter=200, class_weight=\"balanced\", n_jobs=None)\n",
    "\n",
    "pipe_log = Pipeline(steps=[(\"prep\", preprocess), (\"model\", logreg)])\n",
    "\n",
    "# Model 2: RandomForest\n",
    "rf = RandomForestClassifier(\n",
    "    n_estimators=150,\n",
    "    max_depth=None,\n",
    "    min_samples_split=4,\n",
    "    n_jobs=-1,\n",
    "    class_weight=\"balanced_subsample\",\n",
    "    random_state=42\n",
    ")\n",
    "\n",
    "pipe_rf = Pipeline(steps=[(\"prep\", preprocess), (\"model\", rf)])\n",
    "\n",
    "# Fit both\n",
    "print(\"Training LogisticRegression...\")\n",
    "pipe_log.fit(X_train, y_train)\n",
    "print(\"Training RandomForest...\")\n",
    "pipe_rf.fit(X_train, y_train)\n",
    "\n",
    "# Predict probs\n",
    "valid_probs_log = pipe_log.predict_proba(X_valid)[:, 1]\n",
    "valid_probs_rf  = pipe_rf.predict_proba(X_valid)[:, 1]\n",
    "\n",
    "# Save for later use\n",
    "import pickle\n",
    "with open(\"model_logreg.pkl\", \"wb\") as f:\n",
    "    pickle.dump(pipe_log, f)\n",
    "with open(\"model_rf.pkl\", \"wb\") as f:\n",
    "    pickle.dump(pipe_rf, f)\n",
    "print(\"Saved trained models to current folder\")\n",
    "\n"
   ]
  },
  {
   "cell_type": "code",
   "execution_count": 7,
   "id": "d1263b0f",
   "metadata": {},
   "outputs": [
    {
     "name": "stdout",
     "output_type": "stream",
     "text": [
      "Logistic — ROC AUC: 0.9356 | Average Precision: 0.1006\n",
      "RandomForest — ROC AUC: 0.9885 | Average Precision: 0.9768\n"
     ]
    },
    {
     "data": {
      "image/png": "[encoded data removed]",
      "text/plain": [
       "<Figure size 640x480 with 1 Axes>"
      ]
     },
     "metadata": {},
     "output_type": "display_data"
    },
    {
     "data": {
      "image/png": "[encoded data removed]",
      "text/plain": [
       "<Figure size 640x480 with 1 Axes>"
      ]
     },
     "metadata": {},
     "output_type": "display_data"
    },
    {
     "name": "stdout",
     "output_type": "stream",
     "text": [
      "Saved plots to /mnt/data/roc_curve.png and /mnt/data/pr_curve.png\n"
     ]
    }
   ],
   "source": [
    "\n",
    "def print_auc_stats(y_true, y_prob, label=\"model\"):\n",
    "    roc_auc = roc_auc_score(y_true, y_prob)\n",
    "    ap = average_precision_score(y_true, y_prob)\n",
    "    print(f\"{label} — ROC AUC: {roc_auc:.4f} | Average Precision: {ap:.4f}\")\n",
    "\n",
    "print_auc_stats(y_valid, valid_probs_log, label=\"Logistic\")\n",
    "print_auc_stats(y_valid, valid_probs_rf,  label=\"RandomForest\")\n",
    "\n",
    "# Pick the better model by Average Precision\n",
    "ap_log = average_precision_score(y_valid, valid_probs_log)\n",
    "ap_rf = average_precision_score(y_valid, valid_probs_rf)\n",
    "best_probs = valid_probs_rf if ap_rf >= ap_log else valid_probs_log\n",
    "best_label = \"RandomForest\" if ap_rf >= ap_log else \"Logistic\"\n",
    "\n",
    "# ROC curve\n",
    "fpr, tpr, _ = roc_curve(y_valid, best_probs)\n",
    "plt.figure()\n",
    "plt.plot(fpr, tpr, label=f\"{best_label}\")\n",
    "plt.plot([0,1], [0,1], linestyle=\"--\")\n",
    "plt.xlabel(\"False Positive Rate\")\n",
    "plt.ylabel(\"True Positive Rate\")\n",
    "plt.title(\"ROC Curve\")\n",
    "plt.legend(loc=\"lower right\")\n",
    "plt.tight_layout()\n",
    "plt.savefig(\"roc_curve.png\")\n",
    "plt.show()\n",
    "\n",
    "# PR curve\n",
    "prec, rec, _ = precision_recall_curve(y_valid, best_probs)\n",
    "plt.figure()\n",
    "plt.plot(rec, prec, label=f\"{best_label}\")\n",
    "plt.xlabel(\"Recall\")\n",
    "plt.ylabel(\"Precision\")\n",
    "plt.title(\"Precision-Recall Curve\")\n",
    "plt.legend(loc=\"lower left\")\n",
    "plt.tight_layout()\n",
    "plt.savefig(\"pr_curve.png\")\n",
    "plt.show()\n",
    "\n",
    "print(\"Saved plots to /mnt/data/roc_curve.png and /mnt/data/pr_curve.png\")\n"
   ]
  },
  {
   "cell_type": "code",
   "execution_count": 8,
   "id": "7a8afad4",
   "metadata": {},
   "outputs": [
    {
     "name": "stdout",
     "output_type": "stream",
     "text": [
      "Best threshold: 0.128\n",
      "Total cost (@best thr): 501\n",
      "Confusion matrix [tn, fp, fn, tp]: (np.int64(59955), np.int64(1), np.int64(1), np.int64(43))\n",
      "{'0': {'f1-score': 0.9999833211021416,\n",
      "       'precision': 0.9999833211021416,\n",
      "       'recall': 0.9999833211021416,\n",
      "       'support': 59956.0},\n",
      " '1': {'f1-score': 0.9772727272727273,\n",
      "       'precision': 0.9772727272727273,\n",
      "       'recall': 0.9772727272727273,\n",
      "       'support': 44.0},\n",
      " 'accuracy': 0.9999666666666667,\n",
      " 'macro avg': {'f1-score': 0.9886280241874345,\n",
      "               'precision': 0.9886280241874345,\n",
      "               'recall': 0.9886280241874345,\n",
      "               'support': 60000.0},\n",
      " 'weighted avg': {'f1-score': 0.9999666666666667,\n",
      "                  'precision': 0.9999666666666667,\n",
      "                  'recall': 0.9999666666666667,\n",
      "                  'support': 60000.0}}\n",
      "Saved validation predictions to: validation_predictions.csv\n"
     ]
    }
   ],
   "source": [
    "\n",
    "def find_best_threshold(y_true, y_prob, cost_fn=500.0, cost_fp=1.0, grid_size=501):\n",
    "    thresholds = np.linspace(0, 1, grid_size)\n",
    "    best = {\"thr\": 0.5, \"cost\": float(\"inf\"), \"cm\": None, \"report\": None}\n",
    "    for thr in thresholds:\n",
    "        y_pred = (y_prob >= thr).astype(int)\n",
    "        tn, fp, fn, tp = confusion_matrix(y_true, y_pred, labels=[0,1]).ravel()\n",
    "        total_cost = fn * cost_fn + fp * cost_fp\n",
    "        if total_cost < best[\"cost\"]:\n",
    "            best.update({\n",
    "                \"thr\": float(thr),\n",
    "                \"cost\": float(total_cost),\n",
    "                \"cm\": (tn, fp, fn, tp),\n",
    "                \"report\": classification_report(y_true, y_pred, digits=4, output_dict=True)\n",
    "            })\n",
    "    return best\n",
    "\n",
    "best = find_best_threshold(y_valid, best_probs, COST_FN, COST_FP, grid_size=801)\n",
    "tn, fp, fn, tp = best[\"cm\"]\n",
    "print(f\"Best threshold: {best['thr']:.3f}\")\n",
    "print(f\"Total cost (@best thr): {best['cost']:.0f}\")\n",
    "print(\"Confusion matrix [tn, fp, fn, tp]:\", (tn, fp, fn, tp))\n",
    "\n",
    "# Nice printed classification report\n",
    "from pprint import pprint\n",
    "pprint(best[\"report\"])\n",
    "\n",
    "# Save predictions (with chosen threshold)\n",
    "preds_path = \"validation_predictions.csv\"\n",
    "import pandas as pd\n",
    "pd.DataFrame({\n",
    "    \"y_valid\": y_valid,\n",
    "    \"prob\": best_probs,\n",
    "    \"pred\": (best_probs >= best['thr']).astype(int)\n",
    "}).to_csv(preds_path, index=False)\n",
    "print(f\"Saved validation predictions to: {preds_path}\")\n",
    "\n"
   ]
  },
  {
   "cell_type": "code",
   "execution_count": 9,
   "id": "0b5f2ed8",
   "metadata": {},
   "outputs": [
    {
     "name": "stdout",
     "output_type": "stream",
     "text": [
      "Computing permutation importances (this can take a minute)...\n",
      "Top features:\n",
      "            feature  importance\n",
      "11       errorOrig    0.057717\n",
      "8   newbalanceOrig    0.021150\n",
      "3     type_PAYMENT    0.000033\n",
      "9   oldbalanceDest    0.000006\n",
      "14  isMerchantDest    0.000006\n",
      "1    type_CASH_OUT    0.000000\n",
      "0     type_CASH_IN    0.000000\n",
      "6           amount    0.000000\n",
      "5             step    0.000000\n",
      "4    type_TRANSFER    0.000000\n",
      "Saved all importances to: feature_importance.csv\n"
     ]
    },
    {
     "data": {
      "image/png": "[encoded data removed]",
      "text/plain": [
       "<Figure size 640x480 with 1 Axes>"
      ]
     },
     "metadata": {},
     "output_type": "display_data"
    }
   ],
   "source": [
    "\n",
    "# Decide which model was better by AP\n",
    "ap_log = average_precision_score(y_valid, valid_probs_log)\n",
    "ap_rf = average_precision_score(y_valid, valid_probs_rf)\n",
    "use_rf = ap_rf >= ap_log\n",
    "model = pipe_rf if use_rf else pipe_log\n",
    "\n",
    "# Build the transformed validation set to align with permutation_importance API\n",
    "prep = model.named_steps[\"prep\"]\n",
    "model_est = model.named_steps[\"model\"]\n",
    "prep.fit(X_train)  # fit on train\n",
    "X_valid_trans = prep.transform(X_valid)  # transform valid\n",
    "\n",
    "# Build feature names: one-hots for 'type' + numeric remainder\n",
    "cat_features = list(prep.named_transformers_[\"cat\"].get_feature_names_out([\"type\"]))\n",
    "feature_names = cat_features + feature_cols_num\n",
    "\n",
    "print(\"Computing permutation importances (this can take a minute)...\")\n",
    "r = permutation_importance(model_est, X_valid_trans, y_valid, n_repeats=3, random_state=42, n_jobs=-1)\n",
    "\n",
    "imp = pd.DataFrame({\"feature\": feature_names, \"importance\": r.importances_mean}).sort_values(\"importance\", ascending=False)\n",
    "\n",
    "imp_path = \"feature_importance.csv\"\n",
    "imp.to_csv(imp_path, index=False)\n",
    "print(\"Top features:\\n\", imp.head(10))\n",
    "print(f\"Saved all importances to: {imp_path}\")\n",
    "\n",
    "# Plot top 15\n",
    "topn = 15\n",
    "plt.figure()\n",
    "plt.barh(imp.head(topn)[\"feature\"][::-1], imp.head(topn)[\"importance\"][::-1])\n",
    "plt.xlabel(\"Permutation importance (mean)\")\n",
    "plt.ylabel(\"Feature\")\n",
    "plt.title(\"Top features\")\n",
    "plt.tight_layout()\n",
    "plt.savefig(\"feature_importance.png\")\n",
    "plt.show()\n"
   ]
  },
  {
   "cell_type": "markdown",
   "id": "83061f27",
   "metadata": {},
   "source": [
    "\n",
    "## 9) Actionable plan for the business (fill in with your numbers)\n",
    "Use the insights above to propose steps like:\n",
    "\n",
    "- **Real-time rules as a first line of defense**\n",
    "  - Keep the existing high-amount transfer rule (dataset has `isFlaggedFraud` > 200k). Use it to auto-block or fast-track review.\n",
    "  - Add **consistency checks**: large `errorOrig` or `errorDest` values (balances that don't reconcile) => flag.\n",
    "  - **Type-aware** rules (if your analysis shows fraud concentrates in certain `type` values, tighten checks there).\n",
    "\n",
    "- **Model-driven triage**\n",
    "  - Run the ML model on every transaction and **route**:\n",
    "    - Score ≥ *your best threshold* → **High risk** → auto-block or manual review.\n",
    "    - Score in a \"grey zone\" → ask for step-up verification (OTP, biometric).\n",
    "    - Score < low threshold → pass but continue background monitoring.\n",
    "\n",
    "- **Human-in-the-loop + feedback**\n",
    "  - Review flagged cases daily; use the outcomes to **retrain** the model weekly.\n",
    "  - Track **precision/recall** at your chosen threshold and monthly **cost savings** vs. baseline rules.\n",
    "\n",
    "- **Monitoring**\n",
    "  - **Drift checks**: watch the share of transaction types, amounts, and the model score distribution vs. training data.\n",
    "  - **Alert if** fraud rate or score distribution shifts beyond set bounds; then **retrain** or re-threshold.\n",
    "\n",
    "> Keep this section short, concrete, and linked to the metrics you computed above (AUCs, precision/recall, costs).\n"
   ]
  },
  {
   "cell_type": "markdown",
   "id": "f512ebfe",
   "metadata": {},
   "source": [
    "\n",
    "## 10) Appendix: Quick sanity checks & utilities\n"
   ]
  },
  {
   "cell_type": "code",
   "execution_count": 10,
   "id": "01b35138",
   "metadata": {},
   "outputs": [
    {
     "name": "stdout",
     "output_type": "stream",
     "text": [
      "Unexpected columns: set()\n"
     ]
    },
    {
     "data": {
      "text/plain": [
       "{'roc_curve.png': '/mnt/data/roc_curve.png',\n",
       " 'pr_curve.png': '/mnt/data/pr_curve.png',\n",
       " 'feature_importance.png': '/mnt/data/feature_importance.png',\n",
       " 'validation_predictions.csv': '/mnt/data/validation_predictions.csv',\n",
       " 'preview_sample.csv': '/mnt/data/preview_sample.csv'}"
      ]
     },
     "execution_count": 10,
     "metadata": {},
     "output_type": "execute_result"
    }
   ],
   "source": [
    "\n",
    "# Sanity check: Only use columns we intended\n",
    "unexpected_cols = set(X_train.columns) - set(feature_cols_num + feature_cols_cat)\n",
    "print(\"Unexpected columns:\", unexpected_cols)\n",
    "assert not unexpected_cols, \"Found unexpected columns in features!\"\n",
    "\n",
    "# Save small artifacts for your report\n",
    "paths = {\n",
    "    \"roc_curve.png\": \"/mnt/data/roc_curve.png\",\n",
    "    \"pr_curve.png\": \"/mnt/data/pr_curve.png\",\n",
    "    \"feature_importance.png\": \"/mnt/data/feature_importance.png\",\n",
    "    \"validation_predictions.csv\": \"/mnt/data/validation_predictions.csv\",\n",
    "    \"preview_sample.csv\": \"/mnt/data/preview_sample.csv\",\n",
    "}\n",
    "paths\n"
   ]
  }
 ],
 "metadata": {
  "kernelspec": {
   "display_name": "Python [conda env:base] *",
   "language": "python",
   "name": "conda-base-py"
  },
  "language_info": {
   "codemirror_mode": {
    "name": "ipython",
    "version": 3
   },
   "file_extension": ".py",
   "mimetype": "text/x-python",
   "name": "python",
   "nbconvert_exporter": "python",
   "pygments_lexer": "ipython3",
   "version": "3.13.5"
  }
 },
 "nbformat": 4,
 "nbformat_minor": 5
}
